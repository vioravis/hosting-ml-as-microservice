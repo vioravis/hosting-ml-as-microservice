{
 "cells": [
  {
   "cell_type": "markdown",
   "metadata": {},
   "source": [
    "## Part 1: Existing Machine Learning Services\n",
    "\n",
    "<a href=\"https://colab.research.google.com/github/peckjon/hosting-ml-as-microservice/blob/master/part1/score_reviews_via_service.ipynb\" target=\"_parent\"><img src=\"https://colab.research.google.com/assets/colab-badge.svg\" alt=\"Open In Colab\"/></a>"
   ]
  },
  {
   "cell_type": "markdown",
   "metadata": {},
   "source": [
    "### Obtain labelled reviews\n",
    "\n",
    "In order to test any of the sentiment analysis APIs, we need a labelled dataset of reviews and their sentiment polarity. We'll use NLTK to download the movie_reviews corpus."
   ]
  },
  {
   "cell_type": "code",
   "execution_count": 1,
   "metadata": {
    "pycharm": {
     "name": "#%%\n"
    }
   },
   "outputs": [
    {
     "name": "stderr",
     "output_type": "stream",
     "text": [
      "[nltk_data] Downloading package movie_reviews to\n",
      "[nltk_data]     /Users/vioravis/nltk_data...\n",
      "[nltk_data]   Unzipping corpora/movie_reviews.zip.\n"
     ]
    },
    {
     "data": {
      "text/plain": [
       "True"
      ]
     },
     "execution_count": 1,
     "metadata": {},
     "output_type": "execute_result"
    }
   ],
   "source": [
    "from nltk import download\n",
    "\n",
    "download('movie_reviews')"
   ]
  },
  {
   "cell_type": "markdown",
   "metadata": {},
   "source": [
    "### Load the data\n",
    "\n",
    "The files in movie_reviews have already been divided into two sets: positive ('pos') and negative ('neg'), so we can load the raw text of the reviews into two lists, one for each polarity."
   ]
  },
  {
   "cell_type": "code",
   "execution_count": 2,
   "metadata": {},
   "outputs": [],
   "source": [
    "from nltk.corpus import movie_reviews\n",
    "\n",
    "# extract words from reviews, pair with label\n",
    "\n",
    "reviews_pos = []\n",
    "for fileid in movie_reviews.fileids('pos'):\n",
    "    review = movie_reviews.raw(fileid)\n",
    "    reviews_pos.append(review)\n",
    "\n",
    "reviews_neg = []\n",
    "for fileid in movie_reviews.fileids('neg'):\n",
    "    review = movie_reviews.raw(fileid)\n",
    "    reviews_neg.append(review)"
   ]
  },
  {
   "cell_type": "markdown",
   "metadata": {},
   "source": [
    "### Connect to the scoring API\n",
    "\n",
    "Fill in this function with code that connects to one of these APIs, and uses it to score a single review:\n",
    "\n",
    "* [Amazon Comprehend: Detect Sentiment](https://docs.aws.amazon.com/comprehend/latest/dg/API_DetectSentiment.html)\n",
    "* [Google Natural Language: Analyzing Sentiment](https://cloud.google.com/natural-language/docs/analyzing-sentiment)\n",
    "* [Azure Cognitive Services: Sentiment Analysis](https://docs.microsoft.com/en-us/azure/cognitive-services/text-analytics/how-tos/text-analytics-how-to-sentiment-analysis)\n",
    "* [Algorithmia: Sentiment Analysis](https://algorithmia.com/algorithms/nlp/SentimentAnalysis)\n",
    "\n",
    "Your function must return either 'pos' or 'neg', so you'll need to make some decisions about how to map the results of the API call to one of these values. For example, Amazon Comprehend can return \"NEUTRAL\" or \"MIXED\" for the Sentiment -- if this happens, you may with to inspect the numeric values under the SentimentScore to see whether it leans toward positive or negative.\n"
   ]
  },
  {
   "cell_type": "code",
   "execution_count": 7,
   "metadata": {},
   "outputs": [
    {
     "data": {
      "text/plain": [
       "-0.3404"
      ]
     },
     "execution_count": 7,
     "metadata": {},
     "output_type": "execute_result"
    }
   ],
   "source": [
    "\n",
    "input = {\n",
    "  \"document\": \"I don't like Algorithmia!\"\n",
    "}\n",
    "client = Algorithmia.client()\n",
    "algo = client.algo('nlp/SentimentAnalysis/1.0.5')\n",
    "algo.set_options(timeout=300) # optional\n",
    "result=algo.pipe(input).result[0]\n",
    "result['sentiment']"
   ]
  },
  {
   "cell_type": "code",
   "execution_count": 13,
   "metadata": {},
   "outputs": [],
   "source": [
    "import Algorithmia\n",
    "\n",
    "\n",
    "def score_review(review):\n",
    "    # TBD: call the service and return 'pos' or 'neg'\n",
    "    input = {\"document\": review}\n",
    "    client = Algorithmia.client('simRKcjYbsBOmzJ7dFcwLjqXwaK1')\n",
    "    algo = client.algo('nlp/SentimentAnalysis/1.0.5')\n",
    "    #algo.set_options(timeout=300) # optional\n",
    "    sentiment_score = algo.pipe(input).result[0]['sentiment']\n",
    "    \n",
    "    if sentiment_score <= 0:\n",
    "        return 'neg'    \n",
    "    else:\n",
    "        return 'pos'"
   ]
  },
  {
   "cell_type": "markdown",
   "metadata": {},
   "source": [
    "### Score each review\n",
    "\n",
    "Now, we can use the function you defined to score each of the reviews"
   ]
  },
  {
   "cell_type": "code",
   "execution_count": 14,
   "metadata": {},
   "outputs": [],
   "source": [
    "results_pos = []\n",
    "for review in reviews_pos:\n",
    "    result = score_review(review)\n",
    "    results_pos.append(result)\n",
    "\n",
    "results_neg = []\n",
    "for review in reviews_neg:\n",
    "    result = score_review(review)\n",
    "    results_neg.append(result)"
   ]
  },
  {
   "cell_type": "markdown",
   "metadata": {},
   "source": [
    "### Calculate accuracy\n",
    "\n",
    "For each of our known positive reviews, we can count the number which our function scored as 'pos', and use this to calculate the % accuracy. We repeaty this for negative reviews, and also for overall accuracy."
   ]
  },
  {
   "cell_type": "code",
   "execution_count": 15,
   "metadata": {},
   "outputs": [
    {
     "name": "stdout",
     "output_type": "stream",
     "text": [
      "Positive reviews: 82.89999999999999% correct\n",
      "Negative reviews: 45.1% correct\n",
      "Overall accuracy: 64.0% correct\n"
     ]
    }
   ],
   "source": [
    "correct_pos = results_pos.count('pos')\n",
    "accuracy_pos = float(correct_pos) / len(results_pos)\n",
    "correct_neg = results_neg.count('neg')\n",
    "accuracy_neg = float(correct_neg) / len(results_neg)\n",
    "correct_all = correct_pos + correct_neg\n",
    "accuracy_all = float(correct_all) / (len(results_pos)+len(results_neg))\n",
    "\n",
    "print('Positive reviews: {}% correct'.format(accuracy_pos*100))\n",
    "print('Negative reviews: {}% correct'.format(accuracy_neg*100))\n",
    "print('Overall accuracy: {}% correct'.format(accuracy_all*100))"
   ]
  },
  {
   "cell_type": "code",
   "execution_count": null,
   "metadata": {},
   "outputs": [],
   "source": []
  }
 ],
 "metadata": {
  "anaconda-cloud": {},
  "kernelspec": {
   "display_name": "Python 3",
   "language": "python",
   "name": "python3"
  },
  "language_info": {
   "codemirror_mode": {
    "name": "ipython",
    "version": 3
   },
   "file_extension": ".py",
   "mimetype": "text/x-python",
   "name": "python",
   "nbconvert_exporter": "python",
   "pygments_lexer": "ipython3",
   "version": "3.7.6"
  },
  "pycharm": {
   "stem_cell": {
    "cell_type": "raw",
    "metadata": {
     "collapsed": false
    },
    "source": []
   }
  }
 },
 "nbformat": 4,
 "nbformat_minor": 1
}
